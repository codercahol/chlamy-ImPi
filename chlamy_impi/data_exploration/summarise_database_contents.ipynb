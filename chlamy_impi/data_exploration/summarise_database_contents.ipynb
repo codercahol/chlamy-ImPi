{
 "cells": [
  {
   "cell_type": "code",
   "execution_count": null,
   "id": "initial_id",
   "metadata": {
    "collapsed": true,
    "jupyter": {
     "outputs_hidden": true,
     "source_hidden": true
    }
   },
   "outputs": [],
   "source": [
    "import matplotlib.pyplot as plt\n",
    "import pandas as pd"
   ]
  },
  {
   "cell_type": "code",
   "execution_count": null,
   "id": "da17623177739a18",
   "metadata": {
    "jupyter": {
     "source_hidden": true
    }
   },
   "outputs": [],
   "source": [
    "df = pd.read_parquet('../../output/database_creation/database.parquet')"
   ]
  },
  {
   "cell_type": "code",
   "execution_count": null,
   "id": "8174e03bf7c6c508",
   "metadata": {
    "jupyter": {
     "source_hidden": true
    }
   },
   "outputs": [],
   "source": [
    "# Show the number of measurement regimes per plate number as bar plot\n",
    "\n",
    "df.groupby('plate')['light_regime'].nunique().plot(kind='bar', ylabel='Number of light regimes', title='Number of light regimes per plate')"
   ]
  },
  {
   "cell_type": "code",
   "execution_count": null,
   "id": "e5db92e6f310f047",
   "metadata": {
    "jupyter": {
     "source_hidden": true
    }
   },
   "outputs": [],
   "source": [
    "# Print out the total number of mutant_ID values\n",
    "\n",
    "print(f'Total number of mutant_ID values: {df[\"mutant_ID\"].nunique()}')"
   ]
  },
  {
   "cell_type": "code",
   "execution_count": null,
   "id": "1055a31213b59842",
   "metadata": {
    "jupyter": {
     "source_hidden": true
    }
   },
   "outputs": [],
   "source": [
    "# Plot every single y2 time series - columns y2_0 to y2_81\n",
    "\n",
    "df_y2 = df.filter(regex='y2_\\d+')\n",
    "\n",
    "print(f'There are {len(df_y2)} rows')\n",
    "print(f'Number of rows without Nans: {len(df_y2.dropna(how=\"all\"))}')\n",
    "\n",
    "light_regimes = df['light_regime'].unique()\n",
    "\n",
    "assert len(light_regimes) == 6\n",
    "\n",
    "fig, ax = plt.subplots(2, 3, figsize=(15, 10))\n",
    "\n",
    "for i, light_regime in enumerate(light_regimes):\n",
    "    ax[i//3, i%3].set_title(f'Light regime: {light_regime}')\n",
    "    ax[i//3, i%3].set_xticks([])\n",
    "    \n",
    "    for row in df_y2[df['light_regime'] == light_regime].dropna(how='all').iterrows():\n",
    "        ax[i//3, i%3].plot(row[1], color='black', alpha=0.1)\n",
    "        \n",
    "    ax[i//3, i%3].set_title(f'Light regime: {light_regime}')\n",
    "    \n",
    "plt.show()\n",
    "\n"
   ]
  },
  {
   "cell_type": "code",
   "execution_count": null,
   "id": "7c0cb56a70900088",
   "metadata": {
    "jupyter": {
     "source_hidden": true
    }
   },
   "outputs": [],
   "source": [
    "# Write out the number of rows where all y2 values are NaN for each plate - light regime combination\n",
    "\n",
    "df_y2['plate id'] = df['plate'].astype(str) + ' - ' + df['light_regime']\n",
    "\n",
    "df_y2['y2_all_nan'] = df_y2.iloc[:, :81].isna().all(axis=1)\n",
    "\n",
    "df_y2.groupby('plate id')['y2_all_nan'].sum().plot(kind='bar', ylabel='Number of rows with all NaN y2 values', title='Number of rows with all NaN y2 values per plate - light regime combination', figsize=(15, 5))\n"
   ]
  },
  {
   "cell_type": "code",
   "execution_count": null,
   "id": "6d912734add41fb4",
   "metadata": {
    "jupyter": {
     "source_hidden": true
    }
   },
   "outputs": [],
   "source": []
  }
 ],
 "metadata": {
  "kernelspec": {
   "display_name": "Python 3 (ipykernel)",
   "language": "python",
   "name": "python3"
  },
  "language_info": {
   "codemirror_mode": {
    "name": "ipython",
    "version": 3
   },
   "file_extension": ".py",
   "mimetype": "text/x-python",
   "name": "python",
   "nbconvert_exporter": "python",
   "pygments_lexer": "ipython3",
   "version": "3.11.8"
  }
 },
 "nbformat": 4,
 "nbformat_minor": 5
}
